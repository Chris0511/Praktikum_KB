{
 "cells": [
  {
   "cell_type": "markdown",
   "id": "d3379786-ae70-488a-8239-91de9703130f",
   "metadata": {},
   "source": [
    "## Link Dataset\n",
    "https://drive.google.com/file/d/15rFZ4WnlJkSfOnJ7ZaOxWdJuTK1-yGKF/view?usp=sharing"
   ]
  },
  {
   "cell_type": "markdown",
   "id": "49d64ceb-3954-40fe-a9ae-68056336af52",
   "metadata": {},
   "source": [
    "## Mengimport Library dan Membaca Dataset"
   ]
  },
  {
   "cell_type": "code",
   "execution_count": 1,
   "id": "e7ffb41c-cb28-47e9-a326-a446ac06b3ca",
   "metadata": {},
   "outputs": [
    {
     "data": {
      "text/html": [
       "<div>\n",
       "<style scoped>\n",
       "    .dataframe tbody tr th:only-of-type {\n",
       "        vertical-align: middle;\n",
       "    }\n",
       "\n",
       "    .dataframe tbody tr th {\n",
       "        vertical-align: top;\n",
       "    }\n",
       "\n",
       "    .dataframe thead th {\n",
       "        text-align: right;\n",
       "    }\n",
       "</style>\n",
       "<table border=\"1\" class=\"dataframe\">\n",
       "  <thead>\n",
       "    <tr style=\"text-align: right;\">\n",
       "      <th></th>\n",
       "      <th>ID</th>\n",
       "      <th>Name</th>\n",
       "      <th>Sex</th>\n",
       "      <th>Age</th>\n",
       "      <th>Height</th>\n",
       "      <th>Weight</th>\n",
       "      <th>Team</th>\n",
       "      <th>NOC</th>\n",
       "      <th>Games</th>\n",
       "      <th>Year</th>\n",
       "      <th>Season</th>\n",
       "      <th>City</th>\n",
       "      <th>Sport</th>\n",
       "      <th>Event</th>\n",
       "      <th>Medal</th>\n",
       "    </tr>\n",
       "  </thead>\n",
       "  <tbody>\n",
       "    <tr>\n",
       "      <th>0</th>\n",
       "      <td>1</td>\n",
       "      <td>A Dijiang</td>\n",
       "      <td>M</td>\n",
       "      <td>24.0</td>\n",
       "      <td>180.0</td>\n",
       "      <td>80.0</td>\n",
       "      <td>China</td>\n",
       "      <td>CHN</td>\n",
       "      <td>1992 Summer</td>\n",
       "      <td>1992</td>\n",
       "      <td>Summer</td>\n",
       "      <td>Barcelona</td>\n",
       "      <td>Basketball</td>\n",
       "      <td>Basketball Men's Basketball</td>\n",
       "      <td>NaN</td>\n",
       "    </tr>\n",
       "    <tr>\n",
       "      <th>1</th>\n",
       "      <td>2</td>\n",
       "      <td>A Lamusi</td>\n",
       "      <td>M</td>\n",
       "      <td>23.0</td>\n",
       "      <td>170.0</td>\n",
       "      <td>60.0</td>\n",
       "      <td>China</td>\n",
       "      <td>CHN</td>\n",
       "      <td>2012 Summer</td>\n",
       "      <td>2012</td>\n",
       "      <td>Summer</td>\n",
       "      <td>London</td>\n",
       "      <td>Judo</td>\n",
       "      <td>Judo Men's Extra-Lightweight</td>\n",
       "      <td>NaN</td>\n",
       "    </tr>\n",
       "    <tr>\n",
       "      <th>2</th>\n",
       "      <td>3</td>\n",
       "      <td>Gunnar Nielsen Aaby</td>\n",
       "      <td>M</td>\n",
       "      <td>24.0</td>\n",
       "      <td>NaN</td>\n",
       "      <td>NaN</td>\n",
       "      <td>Denmark</td>\n",
       "      <td>DEN</td>\n",
       "      <td>1920 Summer</td>\n",
       "      <td>1920</td>\n",
       "      <td>Summer</td>\n",
       "      <td>Antwerpen</td>\n",
       "      <td>Football</td>\n",
       "      <td>Football Men's Football</td>\n",
       "      <td>NaN</td>\n",
       "    </tr>\n",
       "    <tr>\n",
       "      <th>3</th>\n",
       "      <td>4</td>\n",
       "      <td>Edgar Lindenau Aabye</td>\n",
       "      <td>M</td>\n",
       "      <td>34.0</td>\n",
       "      <td>NaN</td>\n",
       "      <td>NaN</td>\n",
       "      <td>Denmark/Sweden</td>\n",
       "      <td>DEN</td>\n",
       "      <td>1900 Summer</td>\n",
       "      <td>1900</td>\n",
       "      <td>Summer</td>\n",
       "      <td>Paris</td>\n",
       "      <td>Tug-Of-War</td>\n",
       "      <td>Tug-Of-War Men's Tug-Of-War</td>\n",
       "      <td>Gold</td>\n",
       "    </tr>\n",
       "    <tr>\n",
       "      <th>4</th>\n",
       "      <td>5</td>\n",
       "      <td>Christine Jacoba Aaftink</td>\n",
       "      <td>F</td>\n",
       "      <td>21.0</td>\n",
       "      <td>185.0</td>\n",
       "      <td>82.0</td>\n",
       "      <td>Netherlands</td>\n",
       "      <td>NED</td>\n",
       "      <td>1988 Winter</td>\n",
       "      <td>1988</td>\n",
       "      <td>Winter</td>\n",
       "      <td>Calgary</td>\n",
       "      <td>Speed Skating</td>\n",
       "      <td>Speed Skating Women's 500 metres</td>\n",
       "      <td>NaN</td>\n",
       "    </tr>\n",
       "  </tbody>\n",
       "</table>\n",
       "</div>"
      ],
      "text/plain": [
       "   ID                      Name Sex   Age  Height  Weight            Team  \\\n",
       "0   1                 A Dijiang   M  24.0   180.0    80.0           China   \n",
       "1   2                  A Lamusi   M  23.0   170.0    60.0           China   \n",
       "2   3       Gunnar Nielsen Aaby   M  24.0     NaN     NaN         Denmark   \n",
       "3   4      Edgar Lindenau Aabye   M  34.0     NaN     NaN  Denmark/Sweden   \n",
       "4   5  Christine Jacoba Aaftink   F  21.0   185.0    82.0     Netherlands   \n",
       "\n",
       "   NOC        Games  Year  Season       City          Sport  \\\n",
       "0  CHN  1992 Summer  1992  Summer  Barcelona     Basketball   \n",
       "1  CHN  2012 Summer  2012  Summer     London           Judo   \n",
       "2  DEN  1920 Summer  1920  Summer  Antwerpen       Football   \n",
       "3  DEN  1900 Summer  1900  Summer      Paris     Tug-Of-War   \n",
       "4  NED  1988 Winter  1988  Winter    Calgary  Speed Skating   \n",
       "\n",
       "                              Event Medal  \n",
       "0       Basketball Men's Basketball   NaN  \n",
       "1      Judo Men's Extra-Lightweight   NaN  \n",
       "2           Football Men's Football   NaN  \n",
       "3       Tug-Of-War Men's Tug-Of-War  Gold  \n",
       "4  Speed Skating Women's 500 metres   NaN  "
      ]
     },
     "execution_count": 1,
     "metadata": {},
     "output_type": "execute_result"
    }
   ],
   "source": [
    "import pandas as pd\n",
    "import matplotlib.pyplot as plt\n",
    "import seaborn as sns\n",
    "import tensorflow as tf\n",
    "\n",
    "from sklearn.model_selection import train_test_split\n",
    "from sklearn.metrics import mean_squared_error\n",
    "\n",
    "# Load dataset\n",
    "df = pd.read_csv('athlete_events.csv')\n",
    "df.head()"
   ]
  },
  {
   "cell_type": "markdown",
   "id": "fba74b3b-d1b5-4526-9c23-58fefe94c94b",
   "metadata": {},
   "source": [
    "## Cek nilai null"
   ]
  },
  {
   "cell_type": "code",
   "execution_count": 2,
   "id": "4807a474-ba18-4da0-b888-8ef7d4beec0a",
   "metadata": {},
   "outputs": [
    {
     "name": "stdout",
     "output_type": "stream",
     "text": [
      "ID             0\n",
      "Name           0\n",
      "Sex            0\n",
      "Age         9474\n",
      "Height     60171\n",
      "Weight     62875\n",
      "Team           0\n",
      "NOC            0\n",
      "Games          0\n",
      "Year           0\n",
      "Season         0\n",
      "City           0\n",
      "Sport          0\n",
      "Event          0\n",
      "Medal     231333\n",
      "dtype: int64\n"
     ]
    }
   ],
   "source": [
    "# Memeriksa nilai null di setiap kolom\n",
    "null_counts = df.isnull().sum()\n",
    "\n",
    "# Menampilkan jumlah nilai null di setiap kolom\n",
    "print(null_counts)"
   ]
  },
  {
   "cell_type": "markdown",
   "id": "04f9f0d9-3471-4f9e-83ec-4835059ee4ae",
   "metadata": {},
   "source": [
    "## Data cleaning pada atribut Height, Weight, dan Age dengan Median"
   ]
  },
  {
   "cell_type": "code",
   "execution_count": 3,
   "id": "5e2492d8-0710-4d3f-920c-4faf0a3b6728",
   "metadata": {},
   "outputs": [],
   "source": [
    "from sklearn.impute import SimpleImputer\n",
    "\n",
    "# Inisialisasi SimpleImputer dengan strategi median\n",
    "imputer = SimpleImputer(strategy='median')\n",
    "\n",
    "from sklearn.impute import SimpleImputer\n",
    "\n",
    "imputer = SimpleImputer(strategy='median')\n",
    "df[['Age', 'Height', 'Weight']] = imputer.fit_transform(df[['Age', 'Height', 'Weight']])\n"
   ]
  },
  {
   "cell_type": "markdown",
   "id": "1a543d24-3a53-4418-abd4-909d8c81328f",
   "metadata": {},
   "source": [
    "## Data cleaning pada target"
   ]
  },
  {
   "cell_type": "code",
   "execution_count": 4,
   "id": "e216c020-f5ff-40d2-b46f-9568a958910c",
   "metadata": {},
   "outputs": [
    {
     "data": {
      "text/html": [
       "<div>\n",
       "<style scoped>\n",
       "    .dataframe tbody tr th:only-of-type {\n",
       "        vertical-align: middle;\n",
       "    }\n",
       "\n",
       "    .dataframe tbody tr th {\n",
       "        vertical-align: top;\n",
       "    }\n",
       "\n",
       "    .dataframe thead th {\n",
       "        text-align: right;\n",
       "    }\n",
       "</style>\n",
       "<table border=\"1\" class=\"dataframe\">\n",
       "  <thead>\n",
       "    <tr style=\"text-align: right;\">\n",
       "      <th></th>\n",
       "      <th>ID</th>\n",
       "      <th>Name</th>\n",
       "      <th>Sex</th>\n",
       "      <th>Age</th>\n",
       "      <th>Height</th>\n",
       "      <th>Weight</th>\n",
       "      <th>Team</th>\n",
       "      <th>NOC</th>\n",
       "      <th>Games</th>\n",
       "      <th>Year</th>\n",
       "      <th>Season</th>\n",
       "      <th>City</th>\n",
       "      <th>Sport</th>\n",
       "      <th>Event</th>\n",
       "      <th>Medal</th>\n",
       "    </tr>\n",
       "  </thead>\n",
       "  <tbody>\n",
       "    <tr>\n",
       "      <th>0</th>\n",
       "      <td>1</td>\n",
       "      <td>A Dijiang</td>\n",
       "      <td>M</td>\n",
       "      <td>24.0</td>\n",
       "      <td>180.0</td>\n",
       "      <td>80.0</td>\n",
       "      <td>China</td>\n",
       "      <td>CHN</td>\n",
       "      <td>1992 Summer</td>\n",
       "      <td>1992</td>\n",
       "      <td>Summer</td>\n",
       "      <td>Barcelona</td>\n",
       "      <td>Basketball</td>\n",
       "      <td>Basketball Men's Basketball</td>\n",
       "      <td>None</td>\n",
       "    </tr>\n",
       "    <tr>\n",
       "      <th>1</th>\n",
       "      <td>2</td>\n",
       "      <td>A Lamusi</td>\n",
       "      <td>M</td>\n",
       "      <td>23.0</td>\n",
       "      <td>170.0</td>\n",
       "      <td>60.0</td>\n",
       "      <td>China</td>\n",
       "      <td>CHN</td>\n",
       "      <td>2012 Summer</td>\n",
       "      <td>2012</td>\n",
       "      <td>Summer</td>\n",
       "      <td>London</td>\n",
       "      <td>Judo</td>\n",
       "      <td>Judo Men's Extra-Lightweight</td>\n",
       "      <td>None</td>\n",
       "    </tr>\n",
       "    <tr>\n",
       "      <th>2</th>\n",
       "      <td>3</td>\n",
       "      <td>Gunnar Nielsen Aaby</td>\n",
       "      <td>M</td>\n",
       "      <td>24.0</td>\n",
       "      <td>175.0</td>\n",
       "      <td>70.0</td>\n",
       "      <td>Denmark</td>\n",
       "      <td>DEN</td>\n",
       "      <td>1920 Summer</td>\n",
       "      <td>1920</td>\n",
       "      <td>Summer</td>\n",
       "      <td>Antwerpen</td>\n",
       "      <td>Football</td>\n",
       "      <td>Football Men's Football</td>\n",
       "      <td>None</td>\n",
       "    </tr>\n",
       "    <tr>\n",
       "      <th>3</th>\n",
       "      <td>4</td>\n",
       "      <td>Edgar Lindenau Aabye</td>\n",
       "      <td>M</td>\n",
       "      <td>34.0</td>\n",
       "      <td>175.0</td>\n",
       "      <td>70.0</td>\n",
       "      <td>Denmark/Sweden</td>\n",
       "      <td>DEN</td>\n",
       "      <td>1900 Summer</td>\n",
       "      <td>1900</td>\n",
       "      <td>Summer</td>\n",
       "      <td>Paris</td>\n",
       "      <td>Tug-Of-War</td>\n",
       "      <td>Tug-Of-War Men's Tug-Of-War</td>\n",
       "      <td>Gold</td>\n",
       "    </tr>\n",
       "    <tr>\n",
       "      <th>4</th>\n",
       "      <td>5</td>\n",
       "      <td>Christine Jacoba Aaftink</td>\n",
       "      <td>F</td>\n",
       "      <td>21.0</td>\n",
       "      <td>185.0</td>\n",
       "      <td>82.0</td>\n",
       "      <td>Netherlands</td>\n",
       "      <td>NED</td>\n",
       "      <td>1988 Winter</td>\n",
       "      <td>1988</td>\n",
       "      <td>Winter</td>\n",
       "      <td>Calgary</td>\n",
       "      <td>Speed Skating</td>\n",
       "      <td>Speed Skating Women's 500 metres</td>\n",
       "      <td>None</td>\n",
       "    </tr>\n",
       "  </tbody>\n",
       "</table>\n",
       "</div>"
      ],
      "text/plain": [
       "   ID                      Name Sex   Age  Height  Weight            Team  \\\n",
       "0   1                 A Dijiang   M  24.0   180.0    80.0           China   \n",
       "1   2                  A Lamusi   M  23.0   170.0    60.0           China   \n",
       "2   3       Gunnar Nielsen Aaby   M  24.0   175.0    70.0         Denmark   \n",
       "3   4      Edgar Lindenau Aabye   M  34.0   175.0    70.0  Denmark/Sweden   \n",
       "4   5  Christine Jacoba Aaftink   F  21.0   185.0    82.0     Netherlands   \n",
       "\n",
       "   NOC        Games  Year  Season       City          Sport  \\\n",
       "0  CHN  1992 Summer  1992  Summer  Barcelona     Basketball   \n",
       "1  CHN  2012 Summer  2012  Summer     London           Judo   \n",
       "2  DEN  1920 Summer  1920  Summer  Antwerpen       Football   \n",
       "3  DEN  1900 Summer  1900  Summer      Paris     Tug-Of-War   \n",
       "4  NED  1988 Winter  1988  Winter    Calgary  Speed Skating   \n",
       "\n",
       "                              Event Medal  \n",
       "0       Basketball Men's Basketball  None  \n",
       "1      Judo Men's Extra-Lightweight  None  \n",
       "2           Football Men's Football  None  \n",
       "3       Tug-Of-War Men's Tug-Of-War  Gold  \n",
       "4  Speed Skating Women's 500 metres  None  "
      ]
     },
     "execution_count": 4,
     "metadata": {},
     "output_type": "execute_result"
    }
   ],
   "source": [
    "df['Medal'].fillna('None', inplace=True)\n",
    "df.head()"
   ]
  },
  {
   "cell_type": "code",
   "execution_count": 5,
   "id": "0633d2c7-c750-4793-a071-3bc2967909c1",
   "metadata": {},
   "outputs": [
    {
     "name": "stdout",
     "output_type": "stream",
     "text": [
      "ID        0\n",
      "Name      0\n",
      "Sex       0\n",
      "Age       0\n",
      "Height    0\n",
      "Weight    0\n",
      "Team      0\n",
      "NOC       0\n",
      "Games     0\n",
      "Year      0\n",
      "Season    0\n",
      "City      0\n",
      "Sport     0\n",
      "Event     0\n",
      "Medal     0\n",
      "dtype: int64\n"
     ]
    }
   ],
   "source": [
    "# Memeriksa nilai null di setiap kolom\n",
    "null_counts = df.isnull().sum()\n",
    "\n",
    "# Menampilkan jumlah nilai null di setiap kolom\n",
    "print(null_counts)"
   ]
  },
  {
   "cell_type": "markdown",
   "id": "3f284a0e-4e4d-40ad-bbce-329c01bf43ba",
   "metadata": {},
   "source": [
    "## Standarisasi pada Age, Height, dan Weight "
   ]
  },
  {
   "cell_type": "code",
   "execution_count": 6,
   "id": "029cecf9-b4c6-4416-ad2a-799322d04de3",
   "metadata": {},
   "outputs": [],
   "source": [
    "from sklearn.preprocessing import StandardScaler\n",
    "\n",
    "scaler = StandardScaler()\n",
    "df[['Age', 'Height', 'Weight']] = scaler.fit_transform(df[['Age', 'Height', 'Weight']])"
   ]
  },
  {
   "cell_type": "markdown",
   "id": "89128cb0-0efd-40af-9118-912340889c90",
   "metadata": {},
   "source": [
    "## Label Ecoding pada Medal"
   ]
  },
  {
   "cell_type": "code",
   "execution_count": 7,
   "id": "73df2bad-0078-4844-b952-89040491ecbc",
   "metadata": {},
   "outputs": [
    {
     "data": {
      "text/html": [
       "<div>\n",
       "<style scoped>\n",
       "    .dataframe tbody tr th:only-of-type {\n",
       "        vertical-align: middle;\n",
       "    }\n",
       "\n",
       "    .dataframe tbody tr th {\n",
       "        vertical-align: top;\n",
       "    }\n",
       "\n",
       "    .dataframe thead th {\n",
       "        text-align: right;\n",
       "    }\n",
       "</style>\n",
       "<table border=\"1\" class=\"dataframe\">\n",
       "  <thead>\n",
       "    <tr style=\"text-align: right;\">\n",
       "      <th></th>\n",
       "      <th>ID</th>\n",
       "      <th>Name</th>\n",
       "      <th>Sex</th>\n",
       "      <th>Age</th>\n",
       "      <th>Height</th>\n",
       "      <th>Weight</th>\n",
       "      <th>Team</th>\n",
       "      <th>NOC</th>\n",
       "      <th>Games</th>\n",
       "      <th>Year</th>\n",
       "      <th>Season</th>\n",
       "      <th>City</th>\n",
       "      <th>Sport</th>\n",
       "      <th>Event</th>\n",
       "      <th>Medal</th>\n",
       "      <th>Medal_encoded</th>\n",
       "    </tr>\n",
       "  </thead>\n",
       "  <tbody>\n",
       "    <tr>\n",
       "      <th>0</th>\n",
       "      <td>1</td>\n",
       "      <td>A Dijiang</td>\n",
       "      <td>M</td>\n",
       "      <td>-0.238971</td>\n",
       "      <td>0.510420</td>\n",
       "      <td>0.752137</td>\n",
       "      <td>China</td>\n",
       "      <td>CHN</td>\n",
       "      <td>1992 Summer</td>\n",
       "      <td>1992</td>\n",
       "      <td>Summer</td>\n",
       "      <td>Barcelona</td>\n",
       "      <td>Basketball</td>\n",
       "      <td>Basketball Men's Basketball</td>\n",
       "      <td>None</td>\n",
       "      <td>2</td>\n",
       "    </tr>\n",
       "    <tr>\n",
       "      <th>1</th>\n",
       "      <td>2</td>\n",
       "      <td>A Lamusi</td>\n",
       "      <td>M</td>\n",
       "      <td>-0.398020</td>\n",
       "      <td>-0.567265</td>\n",
       "      <td>-0.837921</td>\n",
       "      <td>China</td>\n",
       "      <td>CHN</td>\n",
       "      <td>2012 Summer</td>\n",
       "      <td>2012</td>\n",
       "      <td>Summer</td>\n",
       "      <td>London</td>\n",
       "      <td>Judo</td>\n",
       "      <td>Judo Men's Extra-Lightweight</td>\n",
       "      <td>None</td>\n",
       "      <td>2</td>\n",
       "    </tr>\n",
       "    <tr>\n",
       "      <th>2</th>\n",
       "      <td>3</td>\n",
       "      <td>Gunnar Nielsen Aaby</td>\n",
       "      <td>M</td>\n",
       "      <td>-0.238971</td>\n",
       "      <td>-0.028423</td>\n",
       "      <td>-0.042892</td>\n",
       "      <td>Denmark</td>\n",
       "      <td>DEN</td>\n",
       "      <td>1920 Summer</td>\n",
       "      <td>1920</td>\n",
       "      <td>Summer</td>\n",
       "      <td>Antwerpen</td>\n",
       "      <td>Football</td>\n",
       "      <td>Football Men's Football</td>\n",
       "      <td>None</td>\n",
       "      <td>2</td>\n",
       "    </tr>\n",
       "    <tr>\n",
       "      <th>3</th>\n",
       "      <td>4</td>\n",
       "      <td>Edgar Lindenau Aabye</td>\n",
       "      <td>M</td>\n",
       "      <td>1.351524</td>\n",
       "      <td>-0.028423</td>\n",
       "      <td>-0.042892</td>\n",
       "      <td>Denmark/Sweden</td>\n",
       "      <td>DEN</td>\n",
       "      <td>1900 Summer</td>\n",
       "      <td>1900</td>\n",
       "      <td>Summer</td>\n",
       "      <td>Paris</td>\n",
       "      <td>Tug-Of-War</td>\n",
       "      <td>Tug-Of-War Men's Tug-Of-War</td>\n",
       "      <td>Gold</td>\n",
       "      <td>1</td>\n",
       "    </tr>\n",
       "    <tr>\n",
       "      <th>4</th>\n",
       "      <td>5</td>\n",
       "      <td>Christine Jacoba Aaftink</td>\n",
       "      <td>F</td>\n",
       "      <td>-0.716119</td>\n",
       "      <td>1.049262</td>\n",
       "      <td>0.911143</td>\n",
       "      <td>Netherlands</td>\n",
       "      <td>NED</td>\n",
       "      <td>1988 Winter</td>\n",
       "      <td>1988</td>\n",
       "      <td>Winter</td>\n",
       "      <td>Calgary</td>\n",
       "      <td>Speed Skating</td>\n",
       "      <td>Speed Skating Women's 500 metres</td>\n",
       "      <td>None</td>\n",
       "      <td>2</td>\n",
       "    </tr>\n",
       "  </tbody>\n",
       "</table>\n",
       "</div>"
      ],
      "text/plain": [
       "   ID                      Name Sex       Age    Height    Weight  \\\n",
       "0   1                 A Dijiang   M -0.238971  0.510420  0.752137   \n",
       "1   2                  A Lamusi   M -0.398020 -0.567265 -0.837921   \n",
       "2   3       Gunnar Nielsen Aaby   M -0.238971 -0.028423 -0.042892   \n",
       "3   4      Edgar Lindenau Aabye   M  1.351524 -0.028423 -0.042892   \n",
       "4   5  Christine Jacoba Aaftink   F -0.716119  1.049262  0.911143   \n",
       "\n",
       "             Team  NOC        Games  Year  Season       City          Sport  \\\n",
       "0           China  CHN  1992 Summer  1992  Summer  Barcelona     Basketball   \n",
       "1           China  CHN  2012 Summer  2012  Summer     London           Judo   \n",
       "2         Denmark  DEN  1920 Summer  1920  Summer  Antwerpen       Football   \n",
       "3  Denmark/Sweden  DEN  1900 Summer  1900  Summer      Paris     Tug-Of-War   \n",
       "4     Netherlands  NED  1988 Winter  1988  Winter    Calgary  Speed Skating   \n",
       "\n",
       "                              Event Medal  Medal_encoded  \n",
       "0       Basketball Men's Basketball  None              2  \n",
       "1      Judo Men's Extra-Lightweight  None              2  \n",
       "2           Football Men's Football  None              2  \n",
       "3       Tug-Of-War Men's Tug-Of-War  Gold              1  \n",
       "4  Speed Skating Women's 500 metres  None              2  "
      ]
     },
     "execution_count": 7,
     "metadata": {},
     "output_type": "execute_result"
    }
   ],
   "source": [
    "from sklearn.preprocessing import LabelEncoder\n",
    "\n",
    "le = LabelEncoder()\n",
    "df['Medal_encoded'] = le.fit_transform(df['Medal'])\n",
    "\n",
    "df.head()"
   ]
  },
  {
   "cell_type": "markdown",
   "id": "b2fd470a-cb23-4ed5-bfb6-bccf85545319",
   "metadata": {},
   "source": [
    "## Membagi data jadi train set dan test set"
   ]
  },
  {
   "cell_type": "code",
   "execution_count": 8,
   "id": "cd4b4804-bd93-44d1-8857-a25b3f41a737",
   "metadata": {},
   "outputs": [
    {
     "name": "stdout",
     "output_type": "stream",
     "text": [
      "Jumlah data training: 189781\n",
      "Jumlah data testing: 81335\n"
     ]
    }
   ],
   "source": [
    "from sklearn.model_selection import train_test_split\n",
    "\n",
    "# Pisahkan variabel independen (X) dan dependen (y)\n",
    "X = df[['Age', 'Height', 'Weight']]\n",
    "y = df['Medal_encoded']\n",
    "\n",
    "# Bagi dataset menjadi training set dan testing set (misalnya, 70:30)\n",
    "X_train, X_test, y_train, y_test = train_test_split(X, y, test_size=0.3, random_state=42)\n",
    "\n",
    "# Periksa ukuran dari masing-masing set\n",
    "print(\"Jumlah data training:\", len(X_train))\n",
    "print(\"Jumlah data testing:\", len(X_test))\n"
   ]
  },
  {
   "cell_type": "markdown",
   "id": "a86dfc43-a9ea-4abf-8d72-d23d0b66b5da",
   "metadata": {},
   "source": [
    "## Sequential Model\n",
    "Buat arsitektur DNN"
   ]
  },
  {
   "cell_type": "code",
   "execution_count": 9,
   "id": "cafbe759-c31e-40f3-89d7-193883a37c57",
   "metadata": {},
   "outputs": [],
   "source": [
    "from keras.models import Sequential\n",
    "from keras.layers import Dense"
   ]
  },
  {
   "cell_type": "code",
   "execution_count": 10,
   "id": "4ca6d63f-8ee3-4393-93d0-37337689ee08",
   "metadata": {},
   "outputs": [
    {
     "name": "stdout",
     "output_type": "stream",
     "text": [
      "Epoch 1/10\n",
      "5931/5931 [==============================] - 12s 2ms/step - loss: 0.5841 - accuracy: 0.8530 - val_loss: 0.5751 - val_accuracy: 0.8533\n",
      "Epoch 2/10\n",
      "5931/5931 [==============================] - 12s 2ms/step - loss: 0.5752 - accuracy: 0.8532 - val_loss: 0.5750 - val_accuracy: 0.8533\n",
      "Epoch 3/10\n",
      "5931/5931 [==============================] - 12s 2ms/step - loss: 0.5748 - accuracy: 0.8532 - val_loss: 0.5734 - val_accuracy: 0.8533\n",
      "Epoch 4/10\n",
      "5931/5931 [==============================] - 11s 2ms/step - loss: 0.5746 - accuracy: 0.8532 - val_loss: 0.5739 - val_accuracy: 0.8533\n",
      "Epoch 5/10\n",
      "5931/5931 [==============================] - 12s 2ms/step - loss: 0.5745 - accuracy: 0.8532 - val_loss: 0.5732 - val_accuracy: 0.8533\n",
      "Epoch 6/10\n",
      "5931/5931 [==============================] - 12s 2ms/step - loss: 0.5745 - accuracy: 0.8532 - val_loss: 0.5737 - val_accuracy: 0.8533\n",
      "Epoch 7/10\n",
      "5931/5931 [==============================] - 12s 2ms/step - loss: 0.5743 - accuracy: 0.8532 - val_loss: 0.5767 - val_accuracy: 0.8533\n",
      "Epoch 8/10\n",
      "5931/5931 [==============================] - 11s 2ms/step - loss: 0.5743 - accuracy: 0.8532 - val_loss: 0.5733 - val_accuracy: 0.8533\n",
      "Epoch 9/10\n",
      "5931/5931 [==============================] - 11s 2ms/step - loss: 0.5742 - accuracy: 0.8532 - val_loss: 0.5735 - val_accuracy: 0.8533\n",
      "Epoch 10/10\n",
      "5931/5931 [==============================] - 11s 2ms/step - loss: 0.5741 - accuracy: 0.8532 - val_loss: 0.5738 - val_accuracy: 0.8533\n"
     ]
    },
    {
     "data": {
      "text/plain": [
       "<keras.src.callbacks.History at 0x17e29898610>"
      ]
     },
     "execution_count": 10,
     "metadata": {},
     "output_type": "execute_result"
    }
   ],
   "source": [
    "# Inisialisasi model Sequential\n",
    "model = Sequential()\n",
    "\n",
    "# Tambahkan lapisan input dengan 3 node (sesuai dengan jumlah fitur: Age, Height, Weight)\n",
    "model.add(Dense(3, input_dim=3, activation='relu'))\n",
    "\n",
    "# Tambahkan lapisan tersembunyi dengan 64 node dan fungsi aktivasi relu\n",
    "model.add(Dense(64, activation='relu'))\n",
    "\n",
    "# Tambahkan lapisan output dengan 4 node (sesuai dengan jumlah kelas Medal)\n",
    "model.add(Dense(4, activation='softmax'))\n",
    "\n",
    "# Kompilasi model\n",
    "model.compile(optimizer='adam', loss='sparse_categorical_crossentropy', metrics=['accuracy'])\n",
    "\n",
    "# Latih model\n",
    "model.fit(X_train, y_train, epochs=10, batch_size=32, validation_data=(X_test, y_test))\n"
   ]
  },
  {
   "cell_type": "markdown",
   "id": "9e284de5-70c3-47e4-afb4-ce7502cf98b5",
   "metadata": {},
   "source": [
    "## Evaluasi Model"
   ]
  },
  {
   "cell_type": "code",
   "execution_count": 11,
   "id": "f6063520-2d55-4f72-b957-87cc954a5449",
   "metadata": {},
   "outputs": [
    {
     "name": "stdout",
     "output_type": "stream",
     "text": [
      "Loss pada data test: 0.5738\n",
      "Akurasi pada data test: 85.33%\n"
     ]
    }
   ],
   "source": [
    "# Evaluasi model terhadap data test\n",
    "test_loss, test_accuracy = model.evaluate(X_test, y_test, verbose=0)\n",
    "\n",
    "# Tampilkan hasil evaluasi\n",
    "print(f'Loss pada data test: {test_loss:.4f}')\n",
    "print(f'Akurasi pada data test: {test_accuracy*100:.2f}%')"
   ]
  },
  {
   "cell_type": "markdown",
   "id": "f0878deb-95d4-49e4-a19f-3855c5233a8f",
   "metadata": {},
   "source": [
    "## Grafik pergerakan Metrik"
   ]
  },
  {
   "cell_type": "code",
   "execution_count": 12,
   "id": "48c0be32-b563-4656-b835-685f92a288f9",
   "metadata": {},
   "outputs": [
    {
     "name": "stdout",
     "output_type": "stream",
     "text": [
      "Epoch 1/10\n",
      "5931/5931 [==============================] - 11s 2ms/step - loss: 0.5741 - accuracy: 0.8532 - val_loss: 0.5743 - val_accuracy: 0.8533\n",
      "Epoch 2/10\n",
      "5931/5931 [==============================] - 11s 2ms/step - loss: 0.5741 - accuracy: 0.8532 - val_loss: 0.5731 - val_accuracy: 0.8533\n",
      "Epoch 3/10\n",
      "5931/5931 [==============================] - 11s 2ms/step - loss: 0.5740 - accuracy: 0.8532 - val_loss: 0.5729 - val_accuracy: 0.8533\n",
      "Epoch 4/10\n",
      "5931/5931 [==============================] - 11s 2ms/step - loss: 0.5741 - accuracy: 0.8532 - val_loss: 0.5735 - val_accuracy: 0.8533\n",
      "Epoch 5/10\n",
      "5931/5931 [==============================] - 11s 2ms/step - loss: 0.5740 - accuracy: 0.8532 - val_loss: 0.5731 - val_accuracy: 0.8533\n",
      "Epoch 6/10\n",
      "5931/5931 [==============================] - 11s 2ms/step - loss: 0.5740 - accuracy: 0.8532 - val_loss: 0.5730 - val_accuracy: 0.8533\n",
      "Epoch 7/10\n",
      "5931/5931 [==============================] - 11s 2ms/step - loss: 0.5739 - accuracy: 0.8532 - val_loss: 0.5731 - val_accuracy: 0.8533\n",
      "Epoch 8/10\n",
      "5931/5931 [==============================] - 11s 2ms/step - loss: 0.5740 - accuracy: 0.8532 - val_loss: 0.5735 - val_accuracy: 0.8533\n",
      "Epoch 9/10\n",
      "5931/5931 [==============================] - 11s 2ms/step - loss: 0.5738 - accuracy: 0.8532 - val_loss: 0.5733 - val_accuracy: 0.8533\n",
      "Epoch 10/10\n",
      "5931/5931 [==============================] - 11s 2ms/step - loss: 0.5739 - accuracy: 0.8532 - val_loss: 0.5736 - val_accuracy: 0.8533\n"
     ]
    },
    {
     "data": {
      "image/png": "[encoded data removed]",
      "text/plain": [
       "<Figure size 1000x400 with 2 Axes>"
      ]
     },
     "metadata": {},
     "output_type": "display_data"
    }
   ],
   "source": [
    "import matplotlib.pyplot as plt\n",
    "\n",
    "# Lakukan pelatihan model\n",
    "history = model.fit(X_train, y_train, epochs=10, batch_size=32, validation_data=(X_test, y_test))\n",
    "\n",
    "# Dapatkan metrik pelatihan dan validasi dari riwayat\n",
    "training_accuracy = history.history['accuracy']\n",
    "validation_accuracy = history.history['val_accuracy']\n",
    "training_loss = history.history['loss']\n",
    "validation_loss = history.history['val_loss']\n",
    "\n",
    "# Plotting metrik akurasi\n",
    "plt.figure(figsize=(10, 4))\n",
    "plt.subplot(1, 2, 1)\n",
    "plt.plot(training_accuracy, label='Training Accuracy')\n",
    "plt.plot(validation_accuracy, label='Validation Accuracy')\n",
    "plt.xlabel('Epoch')\n",
    "plt.ylabel('Accuracy')\n",
    "plt.legend()\n",
    "\n",
    "# Plotting metrik loss\n",
    "plt.subplot(1, 2, 2)\n",
    "plt.plot(training_loss, label='Training Loss')\n",
    "plt.plot(validation_loss, label='Validation Loss')\n",
    "plt.xlabel('Epoch')\n",
    "plt.ylabel('Loss')\n",
    "plt.legend()\n",
    "\n",
    "# Tampilkan plot\n",
    "plt.tight_layout()\n",
    "plt.show()\n"
   ]
  },
  {
   "cell_type": "markdown",
   "id": "0471c3ae-dbeb-4fc1-a034-d8a857da2ae8",
   "metadata": {},
   "source": [
    "## Mengatasi Overfitting"
   ]
  },
  {
   "cell_type": "markdown",
   "id": "7d0ef544-2a1b-404a-9ef4-e0af39d7231b",
   "metadata": {},
   "source": [
    "Penyederhanaan Model"
   ]
  },
  {
   "cell_type": "code",
   "execution_count": 13,
   "id": "4d2985df-9c40-4c3a-a823-a829db9888ed",
   "metadata": {},
   "outputs": [],
   "source": [
    "# Kurangi jumlah node pada lapisan tersembunyi\n",
    "model.add(Dense(32, activation='relu'))"
   ]
  },
  {
   "cell_type": "markdown",
   "id": "c0e5bc53-86a3-4f69-9402-10e53935b9ee",
   "metadata": {},
   "source": [
    "lakukan Regularisasi"
   ]
  },
  {
   "cell_type": "code",
   "execution_count": 14,
   "id": "96529753-898f-4a03-b99c-99663d8a32da",
   "metadata": {},
   "outputs": [],
   "source": [
    "from keras import regularizers\n",
    "\n",
    "# Tambahkan regularisasi L2 pada lapisan tersembunyi\n",
    "model.add(Dense(64, activation='relu', kernel_regularizer=regularizers.l2(0.01)))"
   ]
  },
  {
   "cell_type": "markdown",
   "id": "82fc48d0-d794-4d59-8544-82dd0add53b8",
   "metadata": {},
   "source": [
    "lakukan Dropout"
   ]
  },
  {
   "cell_type": "code",
   "execution_count": 15,
   "id": "16fbb865-b808-4def-9452-73cc404eae16",
   "metadata": {},
   "outputs": [],
   "source": [
    "from keras.layers import Dropout\n",
    "\n",
    "# Tambahkan dropout layer setelah lapisan tersembunyi\n",
    "model.add(Dropout(0.5))"
   ]
  },
  {
   "cell_type": "markdown",
   "id": "3d9e13dc-d55c-4ad9-b48a-16089d7c2360",
   "metadata": {},
   "source": [
    "Validasi Silang"
   ]
  },
  {
   "cell_type": "code",
   "execution_count": 16,
   "id": "e87846d3-f10d-4b43-b309-1ff3f9ecdaf4",
   "metadata": {},
   "outputs": [],
   "source": [
    "from sklearn.model_selection import KFold\n",
    "\n",
    "# Lakukan validasi silang\n",
    "kf = KFold(n_splits=5)\n",
    "for train_index, val_index in kf.split(X_train):\n",
    "    X_train_fold, X_val_fold = X_train.iloc[train_index], X_train.iloc[val_index]\n",
    "    y_train_fold, y_val_fold = y_train.iloc[train_index], y_train.iloc[val_index]\n",
    "    # ... (lakukan pelatihan pada setiap lipatan)\n"
   ]
  },
  {
   "cell_type": "markdown",
   "id": "fcca40d7-e9f4-45c5-b71a-e86fb83b74c5",
   "metadata": {},
   "source": [
    "lakukan early Stopping"
   ]
  },
  {
   "cell_type": "code",
   "execution_count": 17,
   "id": "7fc662ba-6a5c-471c-a1c4-0b47adc6cccf",
   "metadata": {},
   "outputs": [
    {
     "name": "stdout",
     "output_type": "stream",
     "text": [
      "Epoch 1/50\n",
      "5931/5931 [==============================] - 11s 2ms/step - loss: 0.5739 - accuracy: 0.8532 - val_loss: 0.5732 - val_accuracy: 0.8533\n",
      "Epoch 2/50\n",
      "5931/5931 [==============================] - 11s 2ms/step - loss: 0.5739 - accuracy: 0.8532 - val_loss: 0.5732 - val_accuracy: 0.8533\n",
      "Epoch 3/50\n",
      "5931/5931 [==============================] - 11s 2ms/step - loss: 0.5738 - accuracy: 0.8532 - val_loss: 0.5733 - val_accuracy: 0.8533\n",
      "Epoch 4/50\n",
      "5931/5931 [==============================] - 13s 2ms/step - loss: 0.5738 - accuracy: 0.8532 - val_loss: 0.5729 - val_accuracy: 0.8533\n",
      "Epoch 5/50\n",
      "5931/5931 [==============================] - 12s 2ms/step - loss: 0.5739 - accuracy: 0.8532 - val_loss: 0.5729 - val_accuracy: 0.8533\n",
      "Epoch 6/50\n",
      "5931/5931 [==============================] - 12s 2ms/step - loss: 0.5739 - accuracy: 0.8532 - val_loss: 0.5734 - val_accuracy: 0.8533\n",
      "Epoch 7/50\n",
      "5931/5931 [==============================] - 12s 2ms/step - loss: 0.5738 - accuracy: 0.8532 - val_loss: 0.5729 - val_accuracy: 0.8533\n",
      "Epoch 8/50\n",
      "5931/5931 [==============================] - 12s 2ms/step - loss: 0.5738 - accuracy: 0.8532 - val_loss: 0.5732 - val_accuracy: 0.8533\n"
     ]
    },
    {
     "data": {
      "text/plain": [
       "<keras.src.callbacks.History at 0x17e2d2df490>"
      ]
     },
     "execution_count": 17,
     "metadata": {},
     "output_type": "execute_result"
    }
   ],
   "source": [
    "from keras.callbacks import EarlyStopping\n",
    "\n",
    "# Atur callback early stopping\n",
    "early_stopping = EarlyStopping(monitor='val_loss', patience=3, restore_best_weights=True)\n",
    "\n",
    "# Latih model dengan early stopping\n",
    "model.fit(X_train, y_train, epochs=50, batch_size=32, validation_data=(X_test, y_test), callbacks=[early_stopping])"
   ]
  },
  {
   "cell_type": "markdown",
   "id": "fcd58dbc-f257-4d30-99b7-2e3596daba43",
   "metadata": {},
   "source": [
    "## Tampilkan Grafik"
   ]
  },
  {
   "cell_type": "code",
   "execution_count": 19,
   "id": "91f215a5-e070-4546-ae30-4f89582a7419",
   "metadata": {},
   "outputs": [
    {
     "name": "stdout",
     "output_type": "stream",
     "text": [
      "Epoch 1/50\n",
      "5931/5931 [==============================] - 12s 2ms/step - loss: 0.5738 - accuracy: 0.8532 - val_loss: 0.5730 - val_accuracy: 0.8533\n",
      "Epoch 2/50\n",
      "5931/5931 [==============================] - 12s 2ms/step - loss: 0.5738 - accuracy: 0.8532 - val_loss: 0.5731 - val_accuracy: 0.8533\n",
      "Epoch 3/50\n",
      "5931/5931 [==============================] - 12s 2ms/step - loss: 0.5738 - accuracy: 0.8532 - val_loss: 0.5731 - val_accuracy: 0.8533\n",
      "Epoch 4/50\n",
      "5931/5931 [==============================] - 12s 2ms/step - loss: 0.5737 - accuracy: 0.8532 - val_loss: 0.5733 - val_accuracy: 0.8533\n"
     ]
    },
    {
     "data": {
      "image/png": "[encoded data removed]",
      "text/plain": [
       "<Figure size 1000x400 with 2 Axes>"
      ]
     },
     "metadata": {},
     "output_type": "display_data"
    }
   ],
   "source": [
    "import matplotlib.pyplot as plt\n",
    "\n",
    "# Lakukan pelatihan model dengan strategi pengurangan overfitting\n",
    "history = model.fit(X_train, y_train, epochs=50, batch_size=32, validation_data=(X_test, y_test), callbacks=[early_stopping])\n",
    "\n",
    "# Dapatkan metrik pelatihan dan validasi dari riwayat\n",
    "training_accuracy = history.history['accuracy']\n",
    "validation_accuracy = history.history['val_accuracy']\n",
    "training_loss = history.history['loss']\n",
    "validation_loss = history.history['val_loss']\n",
    "\n",
    "# Plotting metrik akurasi\n",
    "plt.figure(figsize=(10, 4))\n",
    "plt.subplot(1, 2, 1)\n",
    "plt.plot(training_accuracy, label='Training Accuracy')\n",
    "plt.plot(validation_accuracy, label='Validation Accuracy')\n",
    "plt.xlabel('Epoch')\n",
    "plt.ylabel('Accuracy')\n",
    "plt.legend(loc='upper left')\n",
    "\n",
    "# Plotting metrik loss\n",
    "plt.subplot(1, 2, 2)\n",
    "plt.plot(training_loss, label='Training Loss')\n",
    "plt.plot(validation_loss, label='Validation Loss')\n",
    "plt.xlabel('Epoch')\n",
    "plt.ylabel('Loss')\n",
    "plt.legend(loc='upper left')\n",
    "\n",
    "# Tampilkan plot\n",
    "plt.tight_layout()\n",
    "plt.show()\n"
   ]
  },
  {
   "cell_type": "code",
   "execution_count": null,
   "id": "301cd2a3-2d92-49bc-9a8d-d0444339c74d",
   "metadata": {},
   "outputs": [],
   "source": []
  }
 ],
 "metadata": {
  "kernelspec": {
   "display_name": "venv_140",
   "language": "python",
   "name": "venv_140"
  },
  "language_info": {
   "codemirror_mode": {
    "name": "ipython",
    "version": 3
   },
   "file_extension": ".py",
   "mimetype": "text/x-python",
   "name": "python",
   "nbconvert_exporter": "python",
   "pygments_lexer": "ipython3",
   "version": "3.11.5"
  }
 },
 "nbformat": 4,
 "nbformat_minor": 5
}
