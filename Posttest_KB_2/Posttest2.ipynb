{
 "cells": [
  {
   "cell_type": "markdown",
   "id": "938a52e8-a759-4f88-9a40-ff47a07d95f4",
   "metadata": {},
   "source": [
    "## Dataset 120 years of Olympic history: Athletes and result\n",
    "1. **Menampilkan rata-rata, standar deviasi, nilai minimum, nilai maksimum, Q1, Q2, dan Q3 dari attribute bertipe angka**"
   ]
  },
  {
   "cell_type": "code",
   "execution_count": 18,
   "id": "1bf4a1dd-1e18-4b85-a6bd-9d32153f7d66",
   "metadata": {},
   "outputs": [
    {
     "name": "stdout",
     "output_type": "stream",
     "text": [
      "                 ID        Age      Height      Weight         Year\n",
      "mean   68248.954396  25.556898  175.338970   70.702393  1978.378480\n",
      "std    39022.286345   6.393561   10.518462   14.348020    29.877632\n",
      "min        1.000000  10.000000  127.000000   25.000000  1896.000000\n",
      "25%    34643.000000  21.000000  168.000000   60.000000  1960.000000\n",
      "50%    68205.000000  24.000000  175.000000   70.000000  1988.000000\n",
      "75%   102097.250000  28.000000  183.000000   79.000000  2002.000000\n",
      "max   135571.000000  97.000000  226.000000  214.000000  2016.000000\n"
     ]
    }
   ],
   "source": [
    "import pandas as pd\n",
    "\n",
    "# Load dataset\n",
    "dataFrame = pd.read_csv('athlete_events.csv')\n",
    "\n",
    "\n",
    "# untuk menampilkan statistik deskriptif\n",
    "statistics = dataFrame.describe()\n",
    "\n",
    "# Hapus baris \"count\"\n",
    "statistics = statistics.drop('count')\n",
    "\n",
    "# Tampilkan hasil\n",
    "print(statistics)"
   ]
  },
  {
   "cell_type": "markdown",
   "id": "551943c9-162d-4691-9571-48bafb76aea5",
   "metadata": {},
   "source": [
    "2. **Tampilkan 10 record pertama dari dataset dengan attribute bertipe angka**"
   ]
  },
  {
   "cell_type": "code",
   "execution_count": 17,
   "id": "8b21d299-0581-4f26-84c7-26641e78ec5d",
   "metadata": {},
   "outputs": [
    {
     "data": {
      "text/html": [
       "<div>\n",
       "<style scoped>\n",
       "    .dataframe tbody tr th:only-of-type {\n",
       "        vertical-align: middle;\n",
       "    }\n",
       "\n",
       "    .dataframe tbody tr th {\n",
       "        vertical-align: top;\n",
       "    }\n",
       "\n",
       "    .dataframe thead th {\n",
       "        text-align: right;\n",
       "    }\n",
       "</style>\n",
       "<table border=\"1\" class=\"dataframe\">\n",
       "  <thead>\n",
       "    <tr style=\"text-align: right;\">\n",
       "      <th></th>\n",
       "      <th>ID</th>\n",
       "      <th>Age</th>\n",
       "      <th>Height</th>\n",
       "      <th>Weight</th>\n",
       "      <th>Year</th>\n",
       "    </tr>\n",
       "  </thead>\n",
       "  <tbody>\n",
       "    <tr>\n",
       "      <th>0</th>\n",
       "      <td>1</td>\n",
       "      <td>24.0</td>\n",
       "      <td>180.0</td>\n",
       "      <td>80.0</td>\n",
       "      <td>1992</td>\n",
       "    </tr>\n",
       "    <tr>\n",
       "      <th>1</th>\n",
       "      <td>2</td>\n",
       "      <td>23.0</td>\n",
       "      <td>170.0</td>\n",
       "      <td>60.0</td>\n",
       "      <td>2012</td>\n",
       "    </tr>\n",
       "    <tr>\n",
       "      <th>2</th>\n",
       "      <td>3</td>\n",
       "      <td>24.0</td>\n",
       "      <td>NaN</td>\n",
       "      <td>NaN</td>\n",
       "      <td>1920</td>\n",
       "    </tr>\n",
       "    <tr>\n",
       "      <th>3</th>\n",
       "      <td>4</td>\n",
       "      <td>34.0</td>\n",
       "      <td>NaN</td>\n",
       "      <td>NaN</td>\n",
       "      <td>1900</td>\n",
       "    </tr>\n",
       "    <tr>\n",
       "      <th>4</th>\n",
       "      <td>5</td>\n",
       "      <td>21.0</td>\n",
       "      <td>185.0</td>\n",
       "      <td>82.0</td>\n",
       "      <td>1988</td>\n",
       "    </tr>\n",
       "    <tr>\n",
       "      <th>5</th>\n",
       "      <td>5</td>\n",
       "      <td>21.0</td>\n",
       "      <td>185.0</td>\n",
       "      <td>82.0</td>\n",
       "      <td>1988</td>\n",
       "    </tr>\n",
       "    <tr>\n",
       "      <th>6</th>\n",
       "      <td>5</td>\n",
       "      <td>25.0</td>\n",
       "      <td>185.0</td>\n",
       "      <td>82.0</td>\n",
       "      <td>1992</td>\n",
       "    </tr>\n",
       "    <tr>\n",
       "      <th>7</th>\n",
       "      <td>5</td>\n",
       "      <td>25.0</td>\n",
       "      <td>185.0</td>\n",
       "      <td>82.0</td>\n",
       "      <td>1992</td>\n",
       "    </tr>\n",
       "    <tr>\n",
       "      <th>8</th>\n",
       "      <td>5</td>\n",
       "      <td>27.0</td>\n",
       "      <td>185.0</td>\n",
       "      <td>82.0</td>\n",
       "      <td>1994</td>\n",
       "    </tr>\n",
       "    <tr>\n",
       "      <th>9</th>\n",
       "      <td>5</td>\n",
       "      <td>27.0</td>\n",
       "      <td>185.0</td>\n",
       "      <td>82.0</td>\n",
       "      <td>1994</td>\n",
       "    </tr>\n",
       "  </tbody>\n",
       "</table>\n",
       "</div>"
      ],
      "text/plain": [
       "   ID   Age  Height  Weight  Year\n",
       "0   1  24.0   180.0    80.0  1992\n",
       "1   2  23.0   170.0    60.0  2012\n",
       "2   3  24.0     NaN     NaN  1920\n",
       "3   4  34.0     NaN     NaN  1900\n",
       "4   5  21.0   185.0    82.0  1988\n",
       "5   5  21.0   185.0    82.0  1988\n",
       "6   5  25.0   185.0    82.0  1992\n",
       "7   5  25.0   185.0    82.0  1992\n",
       "8   5  27.0   185.0    82.0  1994\n",
       "9   5  27.0   185.0    82.0  1994"
      ]
     },
     "execution_count": 17,
     "metadata": {},
     "output_type": "execute_result"
    }
   ],
   "source": [
    "# Filter hanya kolom bertipe angka\n",
    "dataFrame = dataFrame.select_dtypes(include=['number'])\n",
    "\n",
    "# Tampilkan 10 record pertama\n",
    "dataFrame.head(10)"
   ]
  },
  {
   "cell_type": "markdown",
   "id": "15ec1934-a71a-4959-9965-b1ef5cdb6c17",
   "metadata": {},
   "source": [
    "3. **Mampilkan informasi jumlah record, jumlah attribute, nama attribute, jumlah attribute dengan tipe angka**"
   ]
  },
  {
   "cell_type": "code",
   "execution_count": 21,
   "id": "b729f443-a55b-481f-b63f-5361de2ae36c",
   "metadata": {},
   "outputs": [
    {
     "name": "stdout",
     "output_type": "stream",
     "text": [
      "Jumlah Record: 271116\n",
      "Jumlah Attribute: 15\n",
      "Nama Attribute: ['ID', 'Name', 'Sex', 'Age', 'Height', 'Weight', 'Team', 'NOC', 'Games', 'Year', 'Season', 'City', 'Sport', 'Event', 'Medal']\n",
      "Jumlah Attribute dengan Tipe Angka: 5\n"
     ]
    }
   ],
   "source": [
    "# Jumlah record\n",
    "num_records = len(dataFrame)\n",
    "\n",
    "# Jumlah atribut\n",
    "num_attributes = len(dataFrame.columns)\n",
    "\n",
    "# Nama atribut\n",
    "attribute_names = dataFrame.columns.tolist()\n",
    "\n",
    "# Jumlah atribut dengan tipe angka\n",
    "numeric_attributes = len(dataFrame.select_dtypes(include=['number']).columns)\n",
    "\n",
    "# Membuat dictionary\n",
    "info_dict = {\n",
    "    'Jumlah Record': num_records,\n",
    "    'Jumlah Attribute': num_attributes,\n",
    "    'Nama Attribute': attribute_names,\n",
    "    'Jumlah Attribute dengan Tipe Angka': numeric_attributes\n",
    "}\n",
    "\n",
    "# Menampilkan isi dictionary\n",
    "for key, value in info_dict.items():\n",
    "    print(f\"{key}: {value}\")\n"
   ]
  },
  {
   "cell_type": "markdown",
   "id": "e5edda81-becd-47f5-8025-2d5f1f8cce0e",
   "metadata": {},
   "source": [
    "4. **Mampilkan nilai dataset pada baris dimulai dengan 3 digit NIM akhir hingga data terakhir dan kolom ke 4 hingga kolom terakhir menggunakan ke 2 metode slice**"
   ]
  },
  {
   "cell_type": "code",
   "execution_count": 22,
   "id": "15f54c44-9fb8-4306-b040-a4341e4c09ef",
   "metadata": {},
   "outputs": [
    {
     "name": "stdout",
     "output_type": "stream",
     "text": [
      "        Height  Weight      Team  NOC        Games  Year  Season  \\\n",
      "140      167.0    64.0     Spain  ESP  2016 Summer  2016  Summer   \n",
      "141      167.0    64.0     Spain  ESP  2016 Summer  2016  Summer   \n",
      "142      167.0    64.0     Spain  ESP  2016 Summer  2016  Summer   \n",
      "143      167.0    64.0     Spain  ESP  2016 Summer  2016  Summer   \n",
      "144      167.0    64.0     Spain  ESP  2016 Summer  2016  Summer   \n",
      "...        ...     ...       ...  ...          ...   ...     ...   \n",
      "271111   179.0    89.0  Poland-1  POL  1976 Winter  1976  Winter   \n",
      "271112   176.0    59.0    Poland  POL  2014 Winter  2014  Winter   \n",
      "271113   176.0    59.0    Poland  POL  2014 Winter  2014  Winter   \n",
      "271114   185.0    96.0    Poland  POL  1998 Winter  1998  Winter   \n",
      "271115   185.0    96.0    Poland  POL  2002 Winter  2002  Winter   \n",
      "\n",
      "                  City        Sport                                     Event  \\\n",
      "140     Rio de Janeiro   Gymnastics           Gymnastics Men's Floor Exercise   \n",
      "141     Rio de Janeiro   Gymnastics            Gymnastics Men's Parallel Bars   \n",
      "142     Rio de Janeiro   Gymnastics           Gymnastics Men's Horizontal Bar   \n",
      "143     Rio de Janeiro   Gymnastics                    Gymnastics Men's Rings   \n",
      "144     Rio de Janeiro   Gymnastics          Gymnastics Men's Pommelled Horse   \n",
      "...                ...          ...                                       ...   \n",
      "271111       Innsbruck         Luge                Luge Mixed (Men)'s Doubles   \n",
      "271112           Sochi  Ski Jumping  Ski Jumping Men's Large Hill, Individual   \n",
      "271113           Sochi  Ski Jumping        Ski Jumping Men's Large Hill, Team   \n",
      "271114          Nagano    Bobsleigh                      Bobsleigh Men's Four   \n",
      "271115  Salt Lake City    Bobsleigh                      Bobsleigh Men's Four   \n",
      "\n",
      "       Medal  \n",
      "140      NaN  \n",
      "141      NaN  \n",
      "142      NaN  \n",
      "143      NaN  \n",
      "144      NaN  \n",
      "...      ...  \n",
      "271111   NaN  \n",
      "271112   NaN  \n",
      "271113   NaN  \n",
      "271114   NaN  \n",
      "271115   NaN  \n",
      "\n",
      "[270976 rows x 11 columns]\n"
     ]
    }
   ],
   "source": [
    "# 1. Menggunakan loc untuk slicing\n",
    "subset_loc = dataFrame.loc[140:, dataFrame.columns[4]:]\n",
    "\n",
    "print(subset_loc)"
   ]
  },
  {
   "cell_type": "code",
   "execution_count": 23,
   "id": "aebbe813-22b5-43fd-9b0e-e0305832126b",
   "metadata": {},
   "outputs": [
    {
     "name": "stdout",
     "output_type": "stream",
     "text": [
      "        Height  Weight      Team  NOC        Games  Year  Season  \\\n",
      "140      167.0    64.0     Spain  ESP  2016 Summer  2016  Summer   \n",
      "141      167.0    64.0     Spain  ESP  2016 Summer  2016  Summer   \n",
      "142      167.0    64.0     Spain  ESP  2016 Summer  2016  Summer   \n",
      "143      167.0    64.0     Spain  ESP  2016 Summer  2016  Summer   \n",
      "144      167.0    64.0     Spain  ESP  2016 Summer  2016  Summer   \n",
      "...        ...     ...       ...  ...          ...   ...     ...   \n",
      "271111   179.0    89.0  Poland-1  POL  1976 Winter  1976  Winter   \n",
      "271112   176.0    59.0    Poland  POL  2014 Winter  2014  Winter   \n",
      "271113   176.0    59.0    Poland  POL  2014 Winter  2014  Winter   \n",
      "271114   185.0    96.0    Poland  POL  1998 Winter  1998  Winter   \n",
      "271115   185.0    96.0    Poland  POL  2002 Winter  2002  Winter   \n",
      "\n",
      "                  City        Sport                                     Event  \\\n",
      "140     Rio de Janeiro   Gymnastics           Gymnastics Men's Floor Exercise   \n",
      "141     Rio de Janeiro   Gymnastics            Gymnastics Men's Parallel Bars   \n",
      "142     Rio de Janeiro   Gymnastics           Gymnastics Men's Horizontal Bar   \n",
      "143     Rio de Janeiro   Gymnastics                    Gymnastics Men's Rings   \n",
      "144     Rio de Janeiro   Gymnastics          Gymnastics Men's Pommelled Horse   \n",
      "...                ...          ...                                       ...   \n",
      "271111       Innsbruck         Luge                Luge Mixed (Men)'s Doubles   \n",
      "271112           Sochi  Ski Jumping  Ski Jumping Men's Large Hill, Individual   \n",
      "271113           Sochi  Ski Jumping        Ski Jumping Men's Large Hill, Team   \n",
      "271114          Nagano    Bobsleigh                      Bobsleigh Men's Four   \n",
      "271115  Salt Lake City    Bobsleigh                      Bobsleigh Men's Four   \n",
      "\n",
      "       Medal  \n",
      "140      NaN  \n",
      "141      NaN  \n",
      "142      NaN  \n",
      "143      NaN  \n",
      "144      NaN  \n",
      "...      ...  \n",
      "271111   NaN  \n",
      "271112   NaN  \n",
      "271113   NaN  \n",
      "271114   NaN  \n",
      "271115   NaN  \n",
      "\n",
      "[270976 rows x 11 columns]\n"
     ]
    }
   ],
   "source": [
    "# 2. Menggunakan iloc untuk slicing\n",
    "subset_iloc = dataFrame.iloc[140:, 4:]\n",
    "\n",
    "print(subset_iloc)"
   ]
  },
  {
   "cell_type": "markdown",
   "id": "d9e1d4db-a605-4768-b0db-a7356afced5e",
   "metadata": {},
   "source": [
    "5. **Mampilkan jumlah nilai dari semua attribute yang bernilai object**"
   ]
  },
  {
   "cell_type": "code",
   "execution_count": 25,
   "id": "add9073c-e113-43ba-a437-81c545741407",
   "metadata": {},
   "outputs": [
    {
     "name": "stdout",
     "output_type": "stream",
     "text": [
      "Jumlah nilai untuk kolom 'Name': 134732\n",
      "Jumlah nilai untuk kolom 'Sex': 2\n",
      "Jumlah nilai untuk kolom 'Team': 1184\n",
      "Jumlah nilai untuk kolom 'NOC': 230\n",
      "Jumlah nilai untuk kolom 'Games': 51\n",
      "Jumlah nilai untuk kolom 'Season': 2\n",
      "Jumlah nilai untuk kolom 'City': 42\n",
      "Jumlah nilai untuk kolom 'Sport': 66\n",
      "Jumlah nilai untuk kolom 'Event': 765\n",
      "Jumlah nilai untuk kolom 'Medal': 3\n"
     ]
    }
   ],
   "source": [
    "# Filter hanya kolom bertipe objek\n",
    "object_columns = dataFrame.select_dtypes(include=['object'])\n",
    "\n",
    "# Iterasi melalui setiap kolom objek dan tampilkan jumlah nilai unik\n",
    "for column in object_columns:\n",
    "    value_counts = dataFrame[column].value_counts()\n",
    "    print(f\"Jumlah nilai untuk kolom '{column}': {len(value_counts)}\")\n"
   ]
  },
  {
   "cell_type": "code",
   "execution_count": null,
   "id": "c1c31061-0f28-469c-ab62-8c815f74676e",
   "metadata": {},
   "outputs": [],
   "source": []
  }
 ],
 "metadata": {
  "kernelspec": {
   "display_name": "venv_140",
   "language": "python",
   "name": "venv_140"
  },
  "language_info": {
   "codemirror_mode": {
    "name": "ipython",
    "version": 3
   },
   "file_extension": ".py",
   "mimetype": "text/x-python",
   "name": "python",
   "nbconvert_exporter": "python",
   "pygments_lexer": "ipython3",
   "version": "3.11.5"
  }
 },
 "nbformat": 4,
 "nbformat_minor": 5
}
